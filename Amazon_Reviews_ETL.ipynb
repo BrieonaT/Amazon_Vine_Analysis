{
  "nbformat": 4,
  "nbformat_minor": 0,
  "metadata": {
    "colab": {
      "name": "Amazon_Reviews_ETL.ipynb",
      "provenance": []
    },
    "kernelspec": {
      "name": "python3",
      "display_name": "Python 3"
    },
    "nteract": {
      "version": "0.12.3"
    },
    "language_info": {
      "name": "python"
    }
  },
  "cells": [
    {
      "cell_type": "code",
      "metadata": {
        "id": "V58rxea0HqSa",
        "colab": {
          "base_uri": "https://localhost:8080/"
        },
        "outputId": "6aa7cbf0-af4c-4057-8709-7e935e0d1893"
      },
      "source": [
        "import os\n",
        "# Find the latest version of spark 3.0 from http://www.apache.org/dist/spark/ and enter as the spark version\n",
        "# For example:\n",
        "# spark_version = 'spark-3.0.3'\n",
        "spark_version = 'spark-3.0.3'\n",
        "os.environ['SPARK_VERSION']=spark_version\n",
        "\n",
        "# Install Spark and Java\n",
        "!apt-get update\n",
        "!apt-get install openjdk-11-jdk-headless -qq > /dev/null\n",
        "!wget -q http://www.apache.org/dist/spark/$SPARK_VERSION/$SPARK_VERSION-bin-hadoop2.7.tgz\n",
        "!tar xf $SPARK_VERSION-bin-hadoop2.7.tgz\n",
        "!pip install -q findspark\n",
        "\n",
        "# Set Environment Variables\n",
        "import os\n",
        "os.environ[\"JAVA_HOME\"] = \"/usr/lib/jvm/java-11-openjdk-amd64\"\n",
        "os.environ[\"SPARK_HOME\"] = f\"/content/{spark_version}-bin-hadoop2.7\"\n",
        "\n",
        "# Start a SparkSession\n",
        "import findspark\n",
        "findspark.init()"
      ],
      "execution_count": 1,
      "outputs": [
        {
          "output_type": "stream",
          "name": "stdout",
          "text": [
            "\r0% [Working]\r            \rGet:1 http://security.ubuntu.com/ubuntu bionic-security InRelease [88.7 kB]\n",
            "Get:2 https://cloud.r-project.org/bin/linux/ubuntu bionic-cran40/ InRelease [3,626 B]\n",
            "Ign:3 https://developer.download.nvidia.com/compute/cuda/repos/ubuntu1804/x86_64  InRelease\n",
            "Get:4 http://ppa.launchpad.net/c2d4u.team/c2d4u4.0+/ubuntu bionic InRelease [15.9 kB]\n",
            "Hit:5 http://archive.ubuntu.com/ubuntu bionic InRelease\n",
            "Ign:6 https://developer.download.nvidia.com/compute/machine-learning/repos/ubuntu1804/x86_64  InRelease\n",
            "Get:7 https://developer.download.nvidia.com/compute/cuda/repos/ubuntu1804/x86_64  Release [696 B]\n",
            "Get:8 http://archive.ubuntu.com/ubuntu bionic-updates InRelease [88.7 kB]\n",
            "Hit:9 https://developer.download.nvidia.com/compute/machine-learning/repos/ubuntu1804/x86_64  Release\n",
            "Get:10 https://developer.download.nvidia.com/compute/cuda/repos/ubuntu1804/x86_64  Release.gpg [836 B]\n",
            "Get:11 http://security.ubuntu.com/ubuntu bionic-security/main amd64 Packages [2,324 kB]\n",
            "Get:12 http://security.ubuntu.com/ubuntu bionic-security/universe amd64 Packages [1,428 kB]\n",
            "Get:13 http://security.ubuntu.com/ubuntu bionic-security/restricted amd64 Packages [567 kB]\n",
            "Hit:14 http://ppa.launchpad.net/cran/libgit2/ubuntu bionic InRelease\n",
            "Get:15 http://archive.ubuntu.com/ubuntu bionic-backports InRelease [74.6 kB]\n",
            "Get:16 http://ppa.launchpad.net/deadsnakes/ppa/ubuntu bionic InRelease [15.9 kB]\n",
            "Get:18 https://developer.download.nvidia.com/compute/cuda/repos/ubuntu1804/x86_64  Packages [718 kB]\n",
            "Hit:19 http://ppa.launchpad.net/graphics-drivers/ppa/ubuntu bionic InRelease\n",
            "Get:20 http://archive.ubuntu.com/ubuntu bionic-updates/main amd64 Packages [2,761 kB]\n",
            "Get:21 http://ppa.launchpad.net/c2d4u.team/c2d4u4.0+/ubuntu bionic/main Sources [1,799 kB]\n",
            "Get:22 http://ppa.launchpad.net/c2d4u.team/c2d4u4.0+/ubuntu bionic/main amd64 Packages [921 kB]\n",
            "Get:23 http://ppa.launchpad.net/deadsnakes/ppa/ubuntu bionic/main amd64 Packages [40.8 kB]\n",
            "Get:24 http://archive.ubuntu.com/ubuntu bionic-updates/universe amd64 Packages [2,202 kB]\n",
            "Get:25 http://archive.ubuntu.com/ubuntu bionic-updates/restricted amd64 Packages [600 kB]\n",
            "Fetched 13.6 MB in 19s (713 kB/s)\n",
            "Reading package lists... Done\n"
          ]
        }
      ]
    },
    {
      "cell_type": "code",
      "metadata": {
        "id": "_xKwTpATHqSe",
        "colab": {
          "base_uri": "https://localhost:8080/"
        },
        "outputId": "ef920239-7cc7-4af0-fdf6-127c84862508"
      },
      "source": [
        "# Download the Postgres driver that will allow Spark to interact with Postgres.\n",
        "!wget https://jdbc.postgresql.org/download/postgresql-42.2.16.jar"
      ],
      "execution_count": 2,
      "outputs": [
        {
          "output_type": "stream",
          "name": "stdout",
          "text": [
            "--2021-09-16 19:55:24--  https://jdbc.postgresql.org/download/postgresql-42.2.16.jar\n",
            "Resolving jdbc.postgresql.org (jdbc.postgresql.org)... 72.32.157.228, 2001:4800:3e1:1::228\n",
            "Connecting to jdbc.postgresql.org (jdbc.postgresql.org)|72.32.157.228|:443... connected.\n",
            "HTTP request sent, awaiting response... 200 OK\n",
            "Length: 1002883 (979K) [application/java-archive]\n",
            "Saving to: ‘postgresql-42.2.16.jar’\n",
            "\n",
            "postgresql-42.2.16. 100%[===================>] 979.38K  5.74MB/s    in 0.2s    \n",
            "\n",
            "2021-09-16 19:55:24 (5.74 MB/s) - ‘postgresql-42.2.16.jar’ saved [1002883/1002883]\n",
            "\n"
          ]
        }
      ]
    },
    {
      "cell_type": "code",
      "metadata": {
        "id": "MMqDAjVS0KN9"
      },
      "source": [
        "from pyspark.sql import SparkSession\n",
        "spark = SparkSession.builder.appName(\"M16-Amazon-Challenge\").config(\"spark.driver.extraClassPath\",\"/content/postgresql-42.2.16.jar\").getOrCreate()"
      ],
      "execution_count": 3,
      "outputs": []
    },
    {
      "cell_type": "markdown",
      "metadata": {
        "id": "cyBsySGuY-9V"
      },
      "source": [
        "### Load Amazon Data into Spark DataFrame"
      ]
    },
    {
      "cell_type": "code",
      "metadata": {
        "id": "CtCmBhQJY-9Z",
        "colab": {
          "base_uri": "https://localhost:8080/"
        },
        "outputId": "b01c3c13-8c37-4110-dfb8-3575bee610c6"
      },
      "source": [
        "from pyspark import SparkFiles\n",
        "url = \"https://s3.amazonaws.com/amazon-reviews-pds/tsv/amazon_reviews_us_Digital_Video_Download_v1_00.tsv.gz\"\n",
        "spark.sparkContext.addFile(url)\n",
        "df = spark.read.option(\"encoding\", \"UTF-8\").csv(SparkFiles.get(\"\"), sep=\"\\t\", header=True, inferSchema=True)\n",
        "df.show()"
      ],
      "execution_count": 4,
      "outputs": [
        {
          "output_type": "stream",
          "name": "stdout",
          "text": [
            "+-----------+-----------+--------------+----------+--------------+--------------------+--------------------+-----------+-------------+-----------+----+-----------------+--------------------+--------------------+-----------+\n",
            "|marketplace|customer_id|     review_id|product_id|product_parent|       product_title|    product_category|star_rating|helpful_votes|total_votes|vine|verified_purchase|     review_headline|         review_body|review_date|\n",
            "+-----------+-----------+--------------+----------+--------------+--------------------+--------------------+-----------+-------------+-----------+----+-----------------+--------------------+--------------------+-----------+\n",
            "|         US|   12190288|R3FU16928EP5TC|B00AYB1482|     668895143|Enlightened: Seas...|Digital_Video_Dow...|          5|            0|          0|   N|                Y|I loved it and I ...|I loved it and I ...| 2015-08-31|\n",
            "|         US|   30549954|R1IZHHS1MH3AQ4|B00KQD28OM|     246219280|             Vicious|Digital_Video_Dow...|          5|            0|          0|   N|                Y|As always it seem...|As always it seem...| 2015-08-31|\n",
            "|         US|   52895410| R52R85WC6TIAH|B01489L5LQ|     534732318|         After Words|Digital_Video_Dow...|          4|           17|         18|   N|                Y|      Charming movie|This movie isn't ...| 2015-08-31|\n",
            "|         US|   27072354| R7HOOYTVIB0DS|B008LOVIIK|     239012694|Masterpiece: Insp...|Digital_Video_Dow...|          5|            0|          0|   N|                Y|          Five Stars|excellant this is...| 2015-08-31|\n",
            "|         US|   26939022|R1XQ2N5CDOZGNX|B0094LZMT0|     535858974|   On The Waterfront|Digital_Video_Dow...|          5|            0|          0|   N|                Y|Brilliant film fr...|Brilliant film fr...| 2015-08-31|\n",
            "|         US|    4772040|R1HCST57W334KN|B0112OSOQE|      38517795|Rick and Morty Se...|Digital_Video_Dow...|          5|            5|          6|   N|                Y|Best show on TV r...|If you don't like...| 2015-08-31|\n",
            "|         US|   12910040|R32BUTYQS1ZJBQ|B000NPE5SA|     373323715|      Africa Screams|Digital_Video_Dow...|          4|            1|          1|   N|                Y|Very funny. A typ...|Very funny.  A ty...| 2015-08-31|\n",
            "|         US|   38805573|  RH4SXPL4L9QU|B00XWV4QXG|     633842417| Entourage: Season 7|Digital_Video_Dow...|          3|            0|          0|   N|                Y|it was not as goo...|Strange as it is,...| 2015-08-31|\n",
            "|         US|   37100714|R37INWIQA5YW8N|B00X8UKOUK|     666093513|Catastrophe - Sea...|Digital_Video_Dow...|          2|            0|          0|   N|                Y|           Two Stars|Funny shows! We l...| 2015-08-31|\n",
            "|         US|   41234409|R18GSVAAS3N8GX|B00OOKXTFU|     801680808|The Worricker Tri...|Digital_Video_Dow...|          3|            0|          0|   N|                Y|        A tad Stuffy|Well made. Great ...| 2015-08-31|\n",
            "|         US|   24698954|R2QCG0ZZOHYUOX|B00URDJ600|     174981485|Mr. Selfridge, Se...|Digital_Video_Dow...|          5|            0|          0|   N|                Y|This show is awes...|This show is awes...| 2015-08-31|\n",
            "|         US|   11956809|R2B1OCYMUVMS5C|B009JUZ5I4|     654293980|  Five Branded Women|Digital_Video_Dow...|          5|            0|          0|   N|                Y|A good perspectiv...|A good perspectiv...| 2015-08-31|\n",
            "|         US|   11763902|R131ZJWHK0XXY0|B00PSLQYWE|     156264553|Downton Abbey Sea...|Digital_Video_Dow...|          4|            0|          0|   N|                Y|this saga gets be...|this saga gets be...| 2015-08-31|\n",
            "|         US|   46765633| RY6RIUNL03N8M|B00LI1COYA|     714145608|    Extant, Season 1|Digital_Video_Dow...|          5|            0|          0|   N|                Y|          Five Stars|         Great show.| 2015-08-31|\n",
            "|         US|   12411752|R2SWNCCEH2HPM5|B01347T9O8|     331499516|            Casanova|Digital_Video_Dow...|          1|            0|          0|   N|                Y|            One Star|Not my kind of mo...| 2015-08-31|\n",
            "|         US|   14717869|R127KV8E8ZC5L4|B00EC7VQX2|     627579257|Boardwalk Empire ...|Digital_Video_Dow...|          1|            0|          1|   N|                Y|I would have give...|I would have give...| 2015-08-31|\n",
            "|         US|    7438246|R3GH9B8WLQVY5T|B014P64276|     120489454|      Reunion Part 2|Digital_Video_Dow...|          5|            0|          0|   N|                Y|          Five Stars|         I loved it.| 2015-08-31|\n",
            "|         US|   51636125|R3AEFW1YB46FAU|B00X8UKOUK|     666093513|Catastrophe - Sea...|Digital_Video_Dow...|          3|            0|          0|   N|                Y|I want to like it...|I want to like it...| 2015-08-31|\n",
            "|         US|   47856888|R1ZHHD1GTHGMNK|B005U9RM0W|     728197314|      Grimm Season 1|Digital_Video_Dow...|          4|            1|          1|   N|                Y|If you're a sucke...|If you're a sucke...| 2015-08-31|\n",
            "|         US|    9210752|R2BCH4XK5CIK50|B00X8UKOUK|     666093513|Catastrophe - Sea...|Digital_Video_Dow...|          5|            0|          0|   N|                Y|         Great show.|Well done!!  Grea...| 2015-08-31|\n",
            "+-----------+-----------+--------------+----------+--------------+--------------------+--------------------+-----------+-------------+-----------+----+-----------------+--------------------+--------------------+-----------+\n",
            "only showing top 20 rows\n",
            "\n"
          ]
        }
      ]
    },
    {
      "cell_type": "markdown",
      "metadata": {
        "id": "2yUSe55VY-9t"
      },
      "source": [
        "### Create DataFrames to match tables"
      ]
    },
    {
      "cell_type": "code",
      "metadata": {
        "id": "C8REmY1aY-9u",
        "colab": {
          "base_uri": "https://localhost:8080/"
        },
        "outputId": "48beb133-2721-4776-f229-9f70da725e01"
      },
      "source": [
        "from pyspark.sql.functions import to_date\n",
        "# Read in the Review dataset as a DataFrame\n",
        "df.show(5)"
      ],
      "execution_count": 21,
      "outputs": [
        {
          "output_type": "stream",
          "name": "stdout",
          "text": [
            "+-----------+-----------+--------------+----------+--------------+--------------------+--------------------+-----------+-------------+-----------+----+-----------------+--------------------+--------------------+-----------+\n",
            "|marketplace|customer_id|     review_id|product_id|product_parent|       product_title|    product_category|star_rating|helpful_votes|total_votes|vine|verified_purchase|     review_headline|         review_body|review_date|\n",
            "+-----------+-----------+--------------+----------+--------------+--------------------+--------------------+-----------+-------------+-----------+----+-----------------+--------------------+--------------------+-----------+\n",
            "|         US|   12190288|R3FU16928EP5TC|B00AYB1482|     668895143|Enlightened: Seas...|Digital_Video_Dow...|          5|            0|          0|   N|                Y|I loved it and I ...|I loved it and I ...| 2015-08-31|\n",
            "|         US|   30549954|R1IZHHS1MH3AQ4|B00KQD28OM|     246219280|             Vicious|Digital_Video_Dow...|          5|            0|          0|   N|                Y|As always it seem...|As always it seem...| 2015-08-31|\n",
            "|         US|   52895410| R52R85WC6TIAH|B01489L5LQ|     534732318|         After Words|Digital_Video_Dow...|          4|           17|         18|   N|                Y|      Charming movie|This movie isn't ...| 2015-08-31|\n",
            "|         US|   27072354| R7HOOYTVIB0DS|B008LOVIIK|     239012694|Masterpiece: Insp...|Digital_Video_Dow...|          5|            0|          0|   N|                Y|          Five Stars|excellant this is...| 2015-08-31|\n",
            "|         US|   26939022|R1XQ2N5CDOZGNX|B0094LZMT0|     535858974|   On The Waterfront|Digital_Video_Dow...|          5|            0|          0|   N|                Y|Brilliant film fr...|Brilliant film fr...| 2015-08-31|\n",
            "+-----------+-----------+--------------+----------+--------------+--------------------+--------------------+-----------+-------------+-----------+----+-----------------+--------------------+--------------------+-----------+\n",
            "only showing top 5 rows\n",
            "\n"
          ]
        }
      ]
    },
    {
      "cell_type": "code",
      "metadata": {
        "id": "B0TESUDRY-90",
        "colab": {
          "base_uri": "https://localhost:8080/"
        },
        "outputId": "65aecb2d-d849-4a96-c716-90f0383aa50d"
      },
      "source": [
        "# Create the customers_table DataFrame\n",
        "customers_df = df.groupby(\"customer_id\").agg({\"customer_id\":\"count\"}).withColumnRenamed(\"count(customer_id)\", \"customer_count\")\n",
        "customers_df.show(5)"
      ],
      "execution_count": 43,
      "outputs": [
        {
          "output_type": "stream",
          "name": "stdout",
          "text": [
            "+-----------+--------------+\n",
            "|customer_id|customer_count|\n",
            "+-----------+--------------+\n",
            "|   36427874|             1|\n",
            "|   17687096|            10|\n",
            "|   43798350|             4|\n",
            "|   49387236|             1|\n",
            "|   24321836|             2|\n",
            "+-----------+--------------+\n",
            "only showing top 5 rows\n",
            "\n"
          ]
        }
      ]
    },
    {
      "cell_type": "code",
      "metadata": {
        "id": "4FwXA6UvY-96",
        "colab": {
          "base_uri": "https://localhost:8080/"
        },
        "outputId": "d9d62f19-8ac1-4972-f669-937936fd269c"
      },
      "source": [
        "# Create the products_table DataFrame and drop duplicates. \n",
        "products_df = df.select(['product_id', 'product_title']).drop_duplicates()\n",
        "products_df.show(5)"
      ],
      "execution_count": 29,
      "outputs": [
        {
          "output_type": "stream",
          "name": "stdout",
          "text": [
            "+----------+--------------------+\n",
            "|product_id|       product_title|\n",
            "+----------+--------------------+\n",
            "|B00YKA8PX0|        The Basement|\n",
            "|B004R10N6O|       Morning Glory|\n",
            "|B006MYGL8S|   Deadwood Season 1|\n",
            "|B008Y2X78S|Boardwalk Empire ...|\n",
            "|B003D8XCOC|Eating Out 2: Slo...|\n",
            "+----------+--------------------+\n",
            "only showing top 5 rows\n",
            "\n"
          ]
        }
      ]
    },
    {
      "cell_type": "code",
      "metadata": {
        "id": "MkqyCuNQY-9-",
        "colab": {
          "base_uri": "https://localhost:8080/"
        },
        "outputId": "274a1f62-d083-4ad2-9432-5ba5d636ad9e"
      },
      "source": [
        "# Create the review_id_table DataFrame. \n",
        "# Convert the 'review_date' column to a date datatype with to_date(\"review_date\", 'yyyy-MM-dd').alias(\"review_date\")\n",
        "review_id_df = df.select([\"review_id\", \"customer_id\", \"product_id\", \"product_parent\", to_date(\"review_date\", 'yyyy-MM-dd').alias(\"review_date\")])\n",
        "review_id_df.show(5)"
      ],
      "execution_count": 30,
      "outputs": [
        {
          "output_type": "stream",
          "name": "stdout",
          "text": [
            "+--------------+-----------+----------+--------------+-----------+\n",
            "|     review_id|customer_id|product_id|product_parent|review_date|\n",
            "+--------------+-----------+----------+--------------+-----------+\n",
            "|R3FU16928EP5TC|   12190288|B00AYB1482|     668895143| 2015-08-31|\n",
            "|R1IZHHS1MH3AQ4|   30549954|B00KQD28OM|     246219280| 2015-08-31|\n",
            "| R52R85WC6TIAH|   52895410|B01489L5LQ|     534732318| 2015-08-31|\n",
            "| R7HOOYTVIB0DS|   27072354|B008LOVIIK|     239012694| 2015-08-31|\n",
            "|R1XQ2N5CDOZGNX|   26939022|B0094LZMT0|     535858974| 2015-08-31|\n",
            "+--------------+-----------+----------+--------------+-----------+\n",
            "only showing top 5 rows\n",
            "\n"
          ]
        }
      ]
    },
    {
      "cell_type": "code",
      "metadata": {
        "id": "lzMmkdKmY--D",
        "colab": {
          "base_uri": "https://localhost:8080/"
        },
        "outputId": "bd749f80-1e6e-4fcb-a4e6-6d3bfd4ffa35"
      },
      "source": [
        "# Create the vine_table. DataFrame\n",
        "vine_df = df.select([\"review_id\", \"star_rating\", \"helpful_votes\", \"total_votes\", \"vine\", \"verified_purchase\"])\n",
        "vine_df.show(5)"
      ],
      "execution_count": 31,
      "outputs": [
        {
          "output_type": "stream",
          "name": "stdout",
          "text": [
            "+--------------+-----------+-------------+-----------+----+-----------------+\n",
            "|     review_id|star_rating|helpful_votes|total_votes|vine|verified_purchase|\n",
            "+--------------+-----------+-------------+-----------+----+-----------------+\n",
            "|R3FU16928EP5TC|          5|            0|          0|   N|                Y|\n",
            "|R1IZHHS1MH3AQ4|          5|            0|          0|   N|                Y|\n",
            "| R52R85WC6TIAH|          4|           17|         18|   N|                Y|\n",
            "| R7HOOYTVIB0DS|          5|            0|          0|   N|                Y|\n",
            "|R1XQ2N5CDOZGNX|          5|            0|          0|   N|                Y|\n",
            "+--------------+-----------+-------------+-----------+----+-----------------+\n",
            "only showing top 5 rows\n",
            "\n"
          ]
        }
      ]
    },
    {
      "cell_type": "markdown",
      "metadata": {
        "id": "jITZhLkmY--J"
      },
      "source": [
        "### Connect to the AWS RDS instance and write each DataFrame to its table. "
      ]
    },
    {
      "cell_type": "code",
      "metadata": {
        "id": "7jiUvs1aY--L",
        "colab": {
          "base_uri": "https://localhost:8080/"
        },
        "outputId": "221b2f87-2f27-4d5b-9c7c-1426b1854eea"
      },
      "source": [
        "# Configure settings for RDS\n",
        "from getpass import  getpass\n",
        "password = getpass ('Enter Database Password Here:')\n",
        "mode = \"append\"\n",
        "jdbc_url=\"jdbc:postgresql://mod16.covneeaadxpe.us-east-2.rds.amazonaws.com:5432/postgres\"\n",
        "config = {\"user\":\"postgres\", \n",
        "          \"password\": password, \n",
        "          \"driver\":\"org.postgresql.Driver\"}"
      ],
      "execution_count": 38,
      "outputs": [
        {
          "name": "stdout",
          "output_type": "stream",
          "text": [
            "Enter Database Password Here:··········\n"
          ]
        }
      ]
    },
    {
      "cell_type": "code",
      "metadata": {
        "id": "T2zgZ-aKY--Q"
      },
      "source": [
        "# Write review_id_df to table in RDS\n",
        "review_id_df.write.jdbc(url=jdbc_url, table='review_id_table', mode=mode, properties=config)"
      ],
      "execution_count": 39,
      "outputs": []
    },
    {
      "cell_type": "code",
      "metadata": {
        "id": "1m3yzn-LY--U"
      },
      "source": [
        "# Write products_df to table in RDS\n",
        "# about 3 min\n",
        "products_df.write.jdbc(url=jdbc_url, table='products_table', mode=mode, properties=config)"
      ],
      "execution_count": 41,
      "outputs": []
    },
    {
      "cell_type": "code",
      "metadata": {
        "id": "KbXri15fY--Z"
      },
      "source": [
        "# Write customers_df to table in RDS\n",
        "# 5 min 14 s\n",
        "customers_df.write.jdbc(url=jdbc_url, table='customers_table', mode=mode, properties=config)"
      ],
      "execution_count": 44,
      "outputs": []
    },
    {
      "cell_type": "code",
      "metadata": {
        "id": "XdQknSHLY--e"
      },
      "source": [
        "# Write vine_df to table in RDS\n",
        "# 11 minutes\n",
        "vine_df.write.jdbc(url=jdbc_url, table='vine_table', mode=mode, properties=config)"
      ],
      "execution_count": 45,
      "outputs": []
    },
    {
      "cell_type": "code",
      "metadata": {
        "id": "Exuo6ebUsCqW"
      },
      "source": [
        ""
      ],
      "execution_count": null,
      "outputs": []
    }
  ]
}